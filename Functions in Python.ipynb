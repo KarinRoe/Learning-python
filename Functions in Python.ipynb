{
 "cells": [
  {
   "cell_type": "markdown",
   "metadata": {},
   "source": [
    "# This Notebook has functions I created following the codeacademy tutorial"
   ]
  },
  {
   "cell_type": "markdown",
   "metadata": {},
   "source": [
    "A function called digit_sum that takes a positive integer n as input and returns the sum of all that number's digits. For example: digit_sum(1234) should return 10 which is 1 + 2 + 3 + 4. (Assume that the number you are given will always be positive.)"
   ]
  },
  {
   "cell_type": "code",
   "execution_count": 2,
   "metadata": {},
   "outputs": [],
   "source": [
    "def digit_sum(x):\n",
    "    total = 0\n",
    "    while x > 0:\n",
    "        total += x % 10\n",
    "        x = x // 10\n",
    "        print(x)\n",
    "    return total"
   ]
  },
  {
   "cell_type": "code",
   "execution_count": 42,
   "metadata": {},
   "outputs": [
    {
     "name": "stdout",
     "output_type": "stream",
     "text": [
      "123\n",
      "12\n",
      "1\n",
      "0\n",
      "10\n"
     ]
    }
   ],
   "source": [
    "print(digit_sum(1234))"
   ]
  },
  {
   "cell_type": "markdown",
   "metadata": {},
   "source": [
    "Define a function factorial that takes an integer x as input.\n",
    "\n",
    "Calculate and return the factorial of that number.\n"
   ]
  },
  {
   "cell_type": "code",
   "execution_count": 4,
   "metadata": {},
   "outputs": [],
   "source": [
    "def factorial(x):\n",
    "  if x < 2:\n",
    "    return 1\n",
    "  else:\n",
    "    return x * factorial(x-1)"
   ]
  },
  {
   "cell_type": "code",
   "execution_count": 5,
   "metadata": {},
   "outputs": [
    {
     "data": {
      "text/plain": [
       "24"
      ]
     },
     "execution_count": 5,
     "metadata": {},
     "output_type": "execute_result"
    }
   ],
   "source": [
    "factorial(4)"
   ]
  },
  {
   "cell_type": "markdown",
   "metadata": {},
   "source": [
    "### is_prime\n",
    "\n",
    "A prime number is a positive integer greater than 1 that has no positive divisors other than 1 and itself. (That's a mouthful!)\n",
    "\n",
    "In other words, if you want to test if a number in a variable x is prime, then no other number should go into x evenly besides 1 and x. So 2 and 5 and 11 are all prime, but 4 and 18 and 21 are not.\n",
    "\n",
    "If there is a number between 1 and x that goes in evenly, then x is not prime.\n"
   ]
  },
  {
   "cell_type": "code",
   "execution_count": 6,
   "metadata": {},
   "outputs": [],
   "source": [
    "def is_prime(x):\n",
    "  if x < 2:\n",
    "    return False\n",
    "  elif x == 2:\n",
    "    return True\n",
    "  else:\n",
    "    for n in range(2, x):\n",
    "      print(n)\n",
    "      if x % n == 0:\n",
    "        return False\n",
    "    else:\n",
    "      return True"
   ]
  },
  {
   "cell_type": "code",
   "execution_count": 9,
   "metadata": {
    "scrolled": true
   },
   "outputs": [
    {
     "name": "stdout",
     "output_type": "stream",
     "text": [
      "2\n",
      "3\n",
      "4\n",
      "5\n",
      "6\n",
      "7\n",
      "8\n",
      "9\n",
      "10\n",
      "True\n"
     ]
    }
   ],
   "source": [
    "print(is_prime(11))"
   ]
  },
  {
   "cell_type": "markdown",
   "metadata": {},
   "source": [
    "### reverse \n",
    "Define a function called reverse that takes a string text and returns that string in reverse. For example: reverse(\"abcd\") should return \"dcba\"."
   ]
  },
  {
   "cell_type": "code",
   "execution_count": 11,
   "metadata": {},
   "outputs": [],
   "source": [
    "def reverse(text):\n",
    "    rtext = ''\n",
    "    for c in range(len(text)-1, -1,  -1):\n",
    "        rtext += text[c]\n",
    "    return rtext"
   ]
  },
  {
   "cell_type": "code",
   "execution_count": 12,
   "metadata": {},
   "outputs": [
    {
     "name": "stdout",
     "output_type": "stream",
     "text": [
      "!niraK\n"
     ]
    }
   ],
   "source": [
    "print(reverse(\"Karin!\"))"
   ]
  },
  {
   "cell_type": "markdown",
   "metadata": {},
   "source": [
    "### anti vowel\n",
    "Define a function called anti_vowel that takes one string, text, as input and returns the text with all of the vowels removed.\n",
    "\n",
    "For example: anti_vowel(\"Hey You!\") should return \"Hy Y!\". Don't count Y as a vowel. Make sure to remove lowercase and uppercase vowels."
   ]
  },
  {
   "cell_type": "code",
   "execution_count": 13,
   "metadata": {},
   "outputs": [],
   "source": [
    "def anti_vowel(text):\n",
    "   new = \"\"\n",
    "   for c in text:\n",
    "    if c not in \"aeiouAEIOU\":\n",
    "      new = new + c\n",
    "   return new"
   ]
  },
  {
   "cell_type": "code",
   "execution_count": 14,
   "metadata": {},
   "outputs": [
    {
     "name": "stdout",
     "output_type": "stream",
     "text": [
      "Hy Y!\n"
     ]
    }
   ],
   "source": [
    "print(anti_vowel(\"Hey You!\"))"
   ]
  },
  {
   "cell_type": "markdown",
   "metadata": {},
   "source": [
    "### scrabble_score\n",
    "\n",
    "Scrabble is a game where players get points by spelling words. Words are scored by adding together the point values of each individual letter (we'll leave out the double and triple letter and word scores for now).\n",
    "\n",
    "To the right is a dictionary containing all of the letters in the alphabet with their corresponding Scrabble point values.\n",
    "\n",
    "For example: the word \"Helix\" would score 15 points due to the sum of the letters: 4 + 1 + 1 + 1 + 8.\n"
   ]
  },
  {
   "cell_type": "code",
   "execution_count": 15,
   "metadata": {},
   "outputs": [],
   "source": [
    "score = {\"a\": 1, \"c\": 3, \"b\": 3, \"e\": 1, \"d\": 2, \"g\": 2, \n",
    "         \"f\": 4, \"i\": 1, \"h\": 4, \"k\": 5, \"j\": 8, \"m\": 3, \n",
    "         \"l\": 1, \"o\": 1, \"n\": 1, \"q\": 10, \"p\": 3, \"s\": 1, \n",
    "         \"r\": 1, \"u\": 1, \"t\": 1, \"w\": 4, \"v\": 4, \"y\": 4, \n",
    "         \"x\": 8, \"z\": 10}\n",
    "\n",
    "def scrabble_score (word):\n",
    "  total = 0\n",
    "  for letter in word.lower():\n",
    "    total += score[letter]\n",
    "  return(total)"
   ]
  },
  {
   "cell_type": "code",
   "execution_count": 16,
   "metadata": {},
   "outputs": [
    {
     "name": "stdout",
     "output_type": "stream",
     "text": [
      "9\n"
     ]
    }
   ],
   "source": [
    "print(scrabble_score(\"KArin\"))"
   ]
  },
  {
   "cell_type": "markdown",
   "metadata": {},
   "source": [
    "### censor\n",
    "Write a function called censor that takes two strings, text and word, as input. It should return the text with the word you chose replaced with asterisks. For example:\n",
    "\n",
    "censor(\"this hack is wack hack\", \"hack\")\n",
    "\n",
    "should return:\n",
    "\n",
    "\"this **** is wack ****\"\n",
    "\n",
    "    Assume your input strings won't contain punctuation or upper case letters.\n",
    "    The number of asterisks you put should correspond to the number of letters in the censored word.\n",
    "\n"
   ]
  },
  {
   "cell_type": "code",
   "execution_count": 17,
   "metadata": {},
   "outputs": [],
   "source": [
    "def censor(text, word):\n",
    "  words = text.split()\n",
    "  list = []\n",
    "  for x in words:\n",
    "    if x == word:\n",
    "      y = \"*\" * len(word)\n",
    "      list.append(y)\n",
    "    else:\n",
    "      list.append(x)\n",
    "  return \" \".join(list)"
   ]
  },
  {
   "cell_type": "code",
   "execution_count": 19,
   "metadata": {},
   "outputs": [
    {
     "name": "stdout",
     "output_type": "stream",
     "text": [
      "this **** is wack ****\n"
     ]
    }
   ],
   "source": [
    "print(censor(\"this hack is wack hack\", \"hack\"))"
   ]
  },
  {
   "cell_type": "markdown",
   "metadata": {},
   "source": [
    "### count\n",
    "Define a function called count that has two arguments called sequence and item.\n",
    "\n",
    "Return the number of times the item occurs in the list.\n",
    "\n",
    "For example: count([1, 2, 1, 1], 1) should return 3 (because 1 appears 3 times in the list).\n",
    "\n",
    "    There is a list method in Python that you can use for this, but you should do it the long way for practice.\n",
    "    Your function should return an integer.\n",
    "    The item you input may be an integer, string, float, or even another list!\n",
    "    Be careful not to use list as a variable name in your code—it's a reserved word in Python!\n",
    "\n"
   ]
  },
  {
   "cell_type": "code",
   "execution_count": 20,
   "metadata": {},
   "outputs": [],
   "source": [
    "def count(sequence, item):\n",
    "  total = 0\n",
    "  for x in sequence:\n",
    "    if x == item:\n",
    "      total += 1\n",
    "  return total"
   ]
  },
  {
   "cell_type": "code",
   "execution_count": 21,
   "metadata": {},
   "outputs": [
    {
     "name": "stdout",
     "output_type": "stream",
     "text": [
      "3\n",
      "2\n",
      "2\n"
     ]
    }
   ],
   "source": [
    "print(count([1,2,1,1], 1))\n",
    "print(count([\"word\", \"list\", \"word\"], \"word\"))\n",
    "print(count([[1,2], [2,3], [2,3]], [2,3]))"
   ]
  },
  {
   "cell_type": "markdown",
   "metadata": {},
   "source": [
    "***shorter way to write the function:***"
   ]
  },
  {
   "cell_type": "code",
   "execution_count": 22,
   "metadata": {},
   "outputs": [
    {
     "name": "stdout",
     "output_type": "stream",
     "text": [
      "3\n"
     ]
    }
   ],
   "source": [
    "print(len([x for x in [1,2,1,1] if x == 1]))"
   ]
  },
  {
   "cell_type": "markdown",
   "metadata": {},
   "source": [
    "### Purify\n",
    "Define a function called purify that takes in a list of numbers, removes all odd numbers in the list, and returns the result. For example, purify([1,2,3]) should return [2].\n",
    "\n",
    "Do not directly modify the list you are given as input; instead, return a new list with only the even numbers."
   ]
  },
  {
   "cell_type": "code",
   "execution_count": 23,
   "metadata": {},
   "outputs": [],
   "source": [
    "def purify(numbers):\n",
    "  result = []\n",
    "  for n in numbers:\n",
    "    if n%2 == 0:\n",
    "      result.append(n)\n",
    "  return result"
   ]
  },
  {
   "cell_type": "code",
   "execution_count": 27,
   "metadata": {},
   "outputs": [
    {
     "name": "stdout",
     "output_type": "stream",
     "text": [
      "[2, 4]\n"
     ]
    }
   ],
   "source": [
    "print([x for x in [1,2,3, 4] if x%2 == 0])"
   ]
  },
  {
   "cell_type": "markdown",
   "metadata": {},
   "source": [
    "***shorter way to write the function***"
   ]
  },
  {
   "cell_type": "code",
   "execution_count": 25,
   "metadata": {},
   "outputs": [],
   "source": [
    "def purify2(numbers):\n",
    "  return [x for x in numbers if x%2 == 0]"
   ]
  },
  {
   "cell_type": "code",
   "execution_count": 26,
   "metadata": {},
   "outputs": [
    {
     "name": "stdout",
     "output_type": "stream",
     "text": [
      "[2, 4]\n"
     ]
    }
   ],
   "source": [
    "print(purify2([1,2,3,4]))"
   ]
  },
  {
   "cell_type": "markdown",
   "metadata": {},
   "source": [
    "### product \n",
    "Define a function called product that takes a list of integers as input and returns the product of all of the elements in the list. For example: product([4, 5, 5]) should return 100 (because 4 * 5 * 5 is 100).\n",
    "\n",
    "    Don't worry about the list being empty.\n",
    "    Your function should return an integer."
   ]
  },
  {
   "cell_type": "code",
   "execution_count": 28,
   "metadata": {},
   "outputs": [],
   "source": [
    "def product(numbers):\n",
    "  result = 1\n",
    "  for n in numbers:\n",
    "    result *= n\n",
    "  return result"
   ]
  },
  {
   "cell_type": "code",
   "execution_count": 30,
   "metadata": {},
   "outputs": [
    {
     "name": "stdout",
     "output_type": "stream",
     "text": [
      "100\n"
     ]
    }
   ],
   "source": [
    "print(product([4, 5, 5]))"
   ]
  },
  {
   "cell_type": "markdown",
   "metadata": {},
   "source": [
    "### remove dublicates\n",
    "Write a function remove_duplicates that takes in a list and removes elements of the list that are the same.\n",
    "\n",
    "For example: remove_duplicates([1, 1, 2, 2]) should return [1, 2].\n",
    "\n",
    "    Don't remove every occurrence, since you need to keep a single occurrence of a number.\n",
    "    The order in which you present your output does not matter. So returning [1, 2, 3] is the same as returning [3, 1, 2].\n",
    "    Do not modify the list you take as input! Instead, return a new list.\n",
    "\n"
   ]
  },
  {
   "cell_type": "code",
   "execution_count": 31,
   "metadata": {},
   "outputs": [],
   "source": [
    "def remove_duplicates(numbers):\n",
    "  result = []\n",
    "  for n in numbers:\n",
    "    if n not in result:\n",
    "      result.append(n)\n",
    "  return result"
   ]
  },
  {
   "cell_type": "code",
   "execution_count": 32,
   "metadata": {},
   "outputs": [
    {
     "name": "stdout",
     "output_type": "stream",
     "text": [
      "[1, 2]\n"
     ]
    }
   ],
   "source": [
    "print(remove_duplicates([1,1,2,2,]))"
   ]
  },
  {
   "cell_type": "markdown",
   "metadata": {},
   "source": [
    "### median\n",
    "The median is the middle number in a sorted sequence of numbers.\n",
    "\n",
    "Finding the median of [7, 12, 3, 1, 6] would first consist of sorting the sequence into [1, 3, 6, 7, 12] and then locating the middle value, which would be 6.\n",
    "\n",
    "If you are given a sequence with an even number of elements, you must average the two elements surrounding the middle.\n",
    "\n",
    "For example, the median of the sequence [7, 3, 1, 4] is 3.5, since the middle elements after sorting the list are 3 and 4 and (3 + 4) / (2.0) is 3.5."
   ]
  },
  {
   "cell_type": "code",
   "execution_count": 40,
   "metadata": {},
   "outputs": [],
   "source": [
    "def median(numbers):\n",
    "  x = sorted(numbers)\n",
    "  if len(x)%2 == 1:\n",
    "    index = (len(x)-1) / 2\n",
    "    return x[index]\n",
    "  else:\n",
    "    index1 = len(x) / 2\n",
    "    index2 = len(x) /2 - 1\n",
    "    return (x[index1] + x[index2]) / 2.0"
   ]
  },
  {
   "cell_type": "code",
   "execution_count": 41,
   "metadata": {},
   "outputs": [
    {
     "ename": "TypeError",
     "evalue": "list indices must be integers or slices, not float",
     "output_type": "error",
     "traceback": [
      "\u001b[1;31m---------------------------------------------------------------------------\u001b[0m",
      "\u001b[1;31mTypeError\u001b[0m                                 Traceback (most recent call last)",
      "\u001b[1;32m<ipython-input-41-8a8e4caec2ef>\u001b[0m in \u001b[0;36m<module>\u001b[1;34m()\u001b[0m\n\u001b[1;32m----> 1\u001b[1;33m \u001b[0mprint\u001b[0m\u001b[1;33m(\u001b[0m\u001b[0mmedian\u001b[0m\u001b[1;33m(\u001b[0m\u001b[1;33m[\u001b[0m\u001b[1;36m7\u001b[0m\u001b[1;33m,\u001b[0m\u001b[1;36m1\u001b[0m\u001b[1;33m,\u001b[0m\u001b[1;36m3\u001b[0m\u001b[1;33m,\u001b[0m\u001b[1;36m1\u001b[0m\u001b[1;33m,\u001b[0m\u001b[1;36m6\u001b[0m\u001b[1;33m]\u001b[0m\u001b[1;33m)\u001b[0m\u001b[1;33m)\u001b[0m\u001b[1;33m\u001b[0m\u001b[0m\n\u001b[0m",
      "\u001b[1;32m<ipython-input-40-9d30d1326b08>\u001b[0m in \u001b[0;36mmedian\u001b[1;34m(numbers)\u001b[0m\n\u001b[0;32m      3\u001b[0m   \u001b[1;32mif\u001b[0m \u001b[0mlen\u001b[0m\u001b[1;33m(\u001b[0m\u001b[0mx\u001b[0m\u001b[1;33m)\u001b[0m\u001b[1;33m%\u001b[0m\u001b[1;36m2\u001b[0m \u001b[1;33m==\u001b[0m \u001b[1;36m1\u001b[0m\u001b[1;33m:\u001b[0m\u001b[1;33m\u001b[0m\u001b[0m\n\u001b[0;32m      4\u001b[0m     \u001b[0mindex\u001b[0m \u001b[1;33m=\u001b[0m \u001b[1;33m(\u001b[0m\u001b[0mlen\u001b[0m\u001b[1;33m(\u001b[0m\u001b[0mx\u001b[0m\u001b[1;33m)\u001b[0m\u001b[1;33m-\u001b[0m\u001b[1;36m1\u001b[0m\u001b[1;33m)\u001b[0m \u001b[1;33m/\u001b[0m \u001b[1;36m2.0\u001b[0m\u001b[1;33m\u001b[0m\u001b[0m\n\u001b[1;32m----> 5\u001b[1;33m     \u001b[1;32mreturn\u001b[0m \u001b[0mx\u001b[0m\u001b[1;33m[\u001b[0m\u001b[0mindex\u001b[0m\u001b[1;33m]\u001b[0m\u001b[1;33m\u001b[0m\u001b[0m\n\u001b[0m\u001b[0;32m      6\u001b[0m   \u001b[1;32melse\u001b[0m\u001b[1;33m:\u001b[0m\u001b[1;33m\u001b[0m\u001b[0m\n\u001b[0;32m      7\u001b[0m     \u001b[0mindex1\u001b[0m \u001b[1;33m=\u001b[0m \u001b[0mlen\u001b[0m\u001b[1;33m(\u001b[0m\u001b[0mx\u001b[0m\u001b[1;33m)\u001b[0m \u001b[1;33m/\u001b[0m \u001b[1;36m2\u001b[0m\u001b[1;33m\u001b[0m\u001b[0m\n",
      "\u001b[1;31mTypeError\u001b[0m: list indices must be integers or slices, not float"
     ]
    }
   ],
   "source": [
    "print(median([7,1,3,1,6]))"
   ]
  }
 ],
 "metadata": {
  "kernelspec": {
   "display_name": "Python 3",
   "language": "python",
   "name": "python3"
  },
  "language_info": {
   "codemirror_mode": {
    "name": "ipython",
    "version": 3
   },
   "file_extension": ".py",
   "mimetype": "text/x-python",
   "name": "python",
   "nbconvert_exporter": "python",
   "pygments_lexer": "ipython3",
   "version": "3.6.4"
  }
 },
 "nbformat": 4,
 "nbformat_minor": 2
}
